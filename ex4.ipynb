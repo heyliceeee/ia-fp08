{
 "cells": [
  {
   "cell_type": "code",
   "id": "initial_id",
   "metadata": {
    "collapsed": true,
    "ExecuteTime": {
     "end_time": "2025-04-16T08:55:04.829486Z",
     "start_time": "2025-04-16T08:55:04.825973Z"
    }
   },
   "source": [
    "import h2o\n",
    "from h2o.estimators import H2OStackedEnsembleEstimator, H2ORandomForestEstimator, H2OGradientBoostingEstimator"
   ],
   "outputs": [],
   "execution_count": 14
  },
  {
   "metadata": {},
   "cell_type": "markdown",
   "source": "### Explore a abordagem de Stacking através do treino de um modelo de Stacked Ensemble utilizando os modelos treinados nos exercícios anteriores.",
   "id": "f08e665c2af807cb"
  },
  {
   "metadata": {},
   "cell_type": "markdown",
   "source": "#### 1. Utilizando Python pra realizar o stacking dos modelos treinados anteriormente. Recorde a importância de replicar os dados de treino e inclua o keep_cross_validations_predictions=TRUE durante o treino dos seus modelos DRF e GBM.",
   "id": "ca2b55f7eaa8c1fc"
  },
  {
   "metadata": {
    "ExecuteTime": {
     "end_time": "2025-04-16T08:44:09.664621Z",
     "start_time": "2025-04-16T08:43:54.980017Z"
    }
   },
   "cell_type": "code",
   "source": "h2o.init()",
   "id": "257a8c979761fa4e",
   "outputs": [
    {
     "name": "stdout",
     "output_type": "stream",
     "text": [
      "Checking whether there is an H2O instance running at http://localhost:54321. connected.\n"
     ]
    },
    {
     "data": {
      "text/plain": [
       "--------------------------  ---------------------------------\n",
       "H2O_cluster_uptime:         30 mins 49 secs\n",
       "H2O_cluster_timezone:       Europe/Lisbon\n",
       "H2O_data_parsing_timezone:  UTC\n",
       "H2O_cluster_version:        3.46.0.7\n",
       "H2O_cluster_version_age:    19 days\n",
       "H2O_cluster_name:           H2O_from_python_Alice_Dias_d0aocp\n",
       "H2O_cluster_total_nodes:    1\n",
       "H2O_cluster_free_memory:    3.854 Gb\n",
       "H2O_cluster_total_cores:    12\n",
       "H2O_cluster_allowed_cores:  12\n",
       "H2O_cluster_status:         locked, healthy\n",
       "H2O_connection_url:         http://localhost:54321\n",
       "H2O_connection_proxy:       {\"http\": null, \"https\": null}\n",
       "H2O_internal_security:      False\n",
       "Python_version:             3.11.9 final\n",
       "--------------------------  ---------------------------------"
      ],
      "text/html": [
       "\n",
       "<style>\n",
       "\n",
       "#h2o-table-1.h2o-container {\n",
       "  overflow-x: auto;\n",
       "}\n",
       "#h2o-table-1 .h2o-table {\n",
       "  /* width: 100%; */\n",
       "  margin-top: 1em;\n",
       "  margin-bottom: 1em;\n",
       "}\n",
       "#h2o-table-1 .h2o-table caption {\n",
       "  white-space: nowrap;\n",
       "  caption-side: top;\n",
       "  text-align: left;\n",
       "  /* margin-left: 1em; */\n",
       "  margin: 0;\n",
       "  font-size: larger;\n",
       "}\n",
       "#h2o-table-1 .h2o-table thead {\n",
       "  white-space: nowrap; \n",
       "  position: sticky;\n",
       "  top: 0;\n",
       "  box-shadow: 0 -1px inset;\n",
       "}\n",
       "#h2o-table-1 .h2o-table tbody {\n",
       "  overflow: auto;\n",
       "}\n",
       "#h2o-table-1 .h2o-table th,\n",
       "#h2o-table-1 .h2o-table td {\n",
       "  text-align: right;\n",
       "  /* border: 1px solid; */\n",
       "}\n",
       "#h2o-table-1 .h2o-table tr:nth-child(even) {\n",
       "  /* background: #F5F5F5 */\n",
       "}\n",
       "\n",
       "</style>      \n",
       "<div id=\"h2o-table-1\" class=\"h2o-container\">\n",
       "  <table class=\"h2o-table\">\n",
       "    <caption></caption>\n",
       "    <thead></thead>\n",
       "    <tbody><tr><td>H2O_cluster_uptime:</td>\n",
       "<td>30 mins 49 secs</td></tr>\n",
       "<tr><td>H2O_cluster_timezone:</td>\n",
       "<td>Europe/Lisbon</td></tr>\n",
       "<tr><td>H2O_data_parsing_timezone:</td>\n",
       "<td>UTC</td></tr>\n",
       "<tr><td>H2O_cluster_version:</td>\n",
       "<td>3.46.0.7</td></tr>\n",
       "<tr><td>H2O_cluster_version_age:</td>\n",
       "<td>19 days</td></tr>\n",
       "<tr><td>H2O_cluster_name:</td>\n",
       "<td>H2O_from_python_Alice_Dias_d0aocp</td></tr>\n",
       "<tr><td>H2O_cluster_total_nodes:</td>\n",
       "<td>1</td></tr>\n",
       "<tr><td>H2O_cluster_free_memory:</td>\n",
       "<td>3.854 Gb</td></tr>\n",
       "<tr><td>H2O_cluster_total_cores:</td>\n",
       "<td>12</td></tr>\n",
       "<tr><td>H2O_cluster_allowed_cores:</td>\n",
       "<td>12</td></tr>\n",
       "<tr><td>H2O_cluster_status:</td>\n",
       "<td>locked, healthy</td></tr>\n",
       "<tr><td>H2O_connection_url:</td>\n",
       "<td>http://localhost:54321</td></tr>\n",
       "<tr><td>H2O_connection_proxy:</td>\n",
       "<td>{\"http\": null, \"https\": null}</td></tr>\n",
       "<tr><td>H2O_internal_security:</td>\n",
       "<td>False</td></tr>\n",
       "<tr><td>Python_version:</td>\n",
       "<td>3.11.9 final</td></tr></tbody>\n",
       "  </table>\n",
       "</div>\n"
      ]
     },
     "metadata": {},
     "output_type": "display_data"
    }
   ],
   "execution_count": 3
  },
  {
   "metadata": {},
   "cell_type": "code",
   "source": [
    "# Carregamento dos dados\n",
    "train = h2o.import_file(\"train.csv\")\n",
    "test = h2o.import_file(\"test.csv\")\n",
    "\n",
    "# Remover colunas irrelevantes\n",
    "train = train.drop([\"C1\", \"id\"])\n",
    "test = test.drop([\"C1\", \"id\"])\n",
    "\n",
    "# Definir target e features\n",
    "target = \"satisfaction\"\n",
    "features = [col for col in train.columns if col != target]\n",
    "\n",
    "# Modelo DRF com validação cruzada\n",
    "drf_model = H2ORandomForestEstimator(\n",
    "    ntrees=100,\n",
    "    nfolds=5,\n",
    "    fold_assignment=\"Modulo\",\n",
    "    keep_cross_validation_predictions=True,\n",
    "    seed=42\n",
    ")\n",
    "drf_model.train(x=features, y=target, training_frame=train)"
   ],
   "id": "b4497baca175c988",
   "outputs": [],
   "execution_count": null
  },
  {
   "metadata": {},
   "cell_type": "code",
   "source": [
    "# Modelo GBM com validação cruzada\n",
    "gbm_model = H2OGradientBoostingEstimator(\n",
    "    ntrees=100,\n",
    "    max_depth=5,\n",
    "    learn_rate=0.1,\n",
    "    nfolds=5,\n",
    "    fold_assignment=\"Modulo\",\n",
    "    keep_cross_validation_predictions=True,\n",
    "    seed=42\n",
    ")\n",
    "\n",
    "# Treinar o modelo\n",
    "gbm_model.train(x=features, y=target, training_frame=train)"
   ],
   "id": "7a98bae7c9efeb1d",
   "outputs": [],
   "execution_count": null
  },
  {
   "metadata": {
    "ExecuteTime": {
     "end_time": "2025-04-16T08:56:25.468026Z",
     "start_time": "2025-04-16T08:56:17.208771Z"
    }
   },
   "cell_type": "code",
   "source": [
    "# IDs dos melhores modelos treinados (confirma o nome dos objetos!)\n",
    "base_models = [drf_model.model_id, gbm_model.model_id]\n",
    "\n",
    "# Criar e treinar o Stacked Ensemble\n",
    "ensemble = H2OStackedEnsembleEstimator(\n",
    "    base_models=base_models,\n",
    "    metalearner_algorithm=\"AUTO\",\n",
    "    seed=42\n",
    ")\n",
    "ensemble.train(x=features, y=target, training_frame=train)\n",
    "\n",
    "# Avaliação de performance\n",
    "ensemble_performance = ensemble.model_performance()\n",
    "print(ensemble_performance)\n"
   ],
   "id": "894597784f446ad2",
   "outputs": [
    {
     "name": "stdout",
     "output_type": "stream",
     "text": [
      "stackedensemble Model Build progress: |██████████████████████████████████████████| (done) 100%\n",
      "ModelMetricsBinomialGLM: stackedensemble\n",
      "** Reported on train data. **\n",
      "\n",
      "MSE: 0.01049583685757379\n",
      "RMSE: 0.10244919159063086\n",
      "LogLoss: 0.045739236042022284\n",
      "AUC: 0.9993037056732302\n",
      "AUCPR: 0.9991111625207248\n",
      "Gini: 0.9986074113464605\n",
      "Null degrees of freedom: 9930\n",
      "Residual degrees of freedom: 9928\n",
      "Null deviance: 13562.079094965142\n",
      "Residual deviance: 908.4727062666466\n",
      "AIC: 914.4727062666466\n",
      "\n",
      "Confusion Matrix (Act/Pred) for max f1 @ threshold = 0.38957817264551553\n",
      "                         neutral or dissatisfied    satisfied    Error    Rate\n",
      "-----------------------  -------------------------  -----------  -------  --------------\n",
      "neutral or dissatisfied  5615                       65           0.0114   (65.0/5680.0)\n",
      "satisfied                63                         4188         0.0148   (63.0/4251.0)\n",
      "Total                    5678                       4253         0.0129   (128.0/9931.0)\n",
      "\n",
      "Maximum Metrics: Maximum metrics at their respective thresholds\n",
      "metric                       threshold    value     idx\n",
      "---------------------------  -----------  --------  -----\n",
      "max f1                       0.389578     0.984948  207\n",
      "max f2                       0.255475     0.988427  245\n",
      "max f0point5                 0.608274     0.989671  145\n",
      "max accuracy                 0.389578     0.987111  207\n",
      "max precision                0.992917     1         0\n",
      "max recall                   0.0353634    1         357\n",
      "max specificity              0.992917     1         0\n",
      "max absolute_mcc             0.389578     0.973679  207\n",
      "max min_per_class_accuracy   0.373371     0.986591  213\n",
      "max mean_per_class_accuracy  0.341861     0.987018  222\n",
      "max tns                      0.992917     5680      0\n",
      "max fns                      0.992917     2645      0\n",
      "max fps                      0.0128355    5680      399\n",
      "max tps                      0.0353634    4251      357\n",
      "max tnr                      0.992917     1         0\n",
      "max fnr                      0.992917     0.622207  0\n",
      "max fpr                      0.0128355    1         399\n",
      "max tpr                      0.0353634    1         357\n",
      "\n",
      "Gains/Lift Table: Avg response rate: 42.81 %, avg score: 42.94 %\n",
      "group    cumulative_data_fraction    lower_threshold    lift     cumulative_lift    response_rate    score      cumulative_response_rate    cumulative_score    capture_rate    cumulative_capture_rate    gain     cumulative_gain    kolmogorov_smirnov\n",
      "-------  --------------------------  -----------------  -------  -----------------  ---------------  ---------  --------------------------  ------------------  --------------  -------------------------  -------  -----------------  --------------------\n",
      "1        0.0100695                   0.992952           2.33616  2.33616            1                0.992957   1                           0.992957            0.0235239       0.0235239                  133.616  133.616            0.0235239\n",
      "2        0.0200383                   0.992948           2.33616  2.33616            1                0.99295    1                           0.992954            0.0232886       0.0468125                  133.616  133.616            0.0468125\n",
      "3        0.0304098                   0.992943           2.33616  2.33616            1                0.992945   1                           0.992951            0.0242296       0.0710421                  133.616  133.616            0.0710421\n",
      "4        0.0404793                   0.992939           2.33616  2.33616            1                0.992941   1                           0.992948            0.0235239       0.094566                   133.616  133.616            0.094566\n",
      "5        0.0500453                   0.992935           2.33616  2.33616            1                0.992937   1                           0.992946            0.0223477       0.116914                   133.616  133.616            0.116914\n",
      "6        0.101299                    0.992912           2.33616  2.33616            1                0.992924   1                           0.992935            0.119737        0.23665                    133.616  133.616            0.23665\n",
      "7        0.150035                    0.992872           2.33616  2.33616            1                0.992893   1                           0.992921            0.113856        0.350506                   133.616  133.616            0.350506\n",
      "8        0.200081                    0.992788           2.33616  2.33616            1                0.992835   1                           0.9929              0.116914        0.467419                   133.616  133.616            0.467419\n",
      "9        0.30007                     0.991747           2.33616  2.33616            1                0.992423   1                           0.992741            0.233592        0.701012                   133.616  133.616            0.701012\n",
      "10       0.40006                     0.882289           2.33616  2.33616            1                0.977956   1                           0.989046            0.233592        0.934604                   133.616  133.616            0.934604\n",
      "11       0.50005                     0.0325585          0.65403  1.9998             0.27996          0.262919   0.856021                    0.84385             0.0653964       1                          -34.597  99.9799            0.87412\n",
      "12       0.60004                     0.0161546          0        1.66655            0                0.0207728  0.713375                    0.706693            0               1                          -100     66.6555            0.699296\n",
      "13       0.70003                     0.0137631          0        1.42851            0                0.0147131  0.611479                    0.607853            0               1                          -100     42.851             0.524472\n",
      "14       0.80002                     0.012992           0        1.24997            0                0.0133159  0.535053                    0.533545            0               1                          -100     24.9969            0.349648\n",
      "15       0.90001                     0.0128767          0        1.1111             0                0.0129247  0.47561                     0.475705            0               1                          -100     11.1099            0.174824\n",
      "16       1                           0.0127517          0        1                  0                0.0128344  0.428054                    0.429423            0               1                          -100     0                  0\n"
     ]
    }
   ],
   "execution_count": 16
  },
  {
   "metadata": {},
   "cell_type": "markdown",
   "source": [
    "##### a) Analise os resultados de performance. Foi capaz de obter mlhrias?\n",
    "O modelo Stacked Ensemble, treinado c os modelos DRF e GBM cm base, obteve um desempenho superior em tds as principais métricas:\n",
    "\n",
    "- maior AUC (0.9993), > F1 (0.9850) e > precisão geral\n",
    "- < LogLoss (0.0457) → previsões confiantes e robustas\n",
    "- A redução da taxa de erro para 1.29% confirma a eficácia do ensemble\n",
    "\n",
    "✅ S, foi possível obter mlhrias claras face aos modelos individuais. O ensemble combinou as forças do DRF e GBM, resultando num classificador ainda + poderoso e generalizável."
   ],
   "id": "fa2b996efcf024a7"
  }
 ],
 "metadata": {
  "kernelspec": {
   "display_name": "Python 3",
   "language": "python",
   "name": "python3"
  },
  "language_info": {
   "codemirror_mode": {
    "name": "ipython",
    "version": 2
   },
   "file_extension": ".py",
   "mimetype": "text/x-python",
   "name": "python",
   "nbconvert_exporter": "python",
   "pygments_lexer": "ipython2",
   "version": "2.7.6"
  }
 },
 "nbformat": 4,
 "nbformat_minor": 5
}
