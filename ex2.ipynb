{
 "cells": [
  {
   "metadata": {
    "ExecuteTime": {
     "end_time": "2025-04-15T15:56:07.653358Z",
     "start_time": "2025-04-15T15:56:03.537179Z"
    }
   },
   "cell_type": "code",
   "source": [
    "import h2o\n",
    "from h2o.estimators import H2ORandomForestEstimator\n",
    "from h2o.grid.grid_search import H2OGridSearch"
   ],
   "id": "c5cc25b5302ba667",
   "outputs": [],
   "execution_count": 2
  },
  {
   "metadata": {},
   "cell_type": "markdown",
   "source": "### C base no dataset acima apresentado e nos conceitos q adquiriu sobre Ensembles, explore a abordagem de Bagging através do treino de um modelo de DRF.",
   "id": "fc6fe4cdd227645e"
  },
  {
   "metadata": {
    "ExecuteTime": {
     "end_time": "2025-04-15T15:56:48.438885Z",
     "start_time": "2025-04-15T15:56:10.698534Z"
    }
   },
   "cell_type": "code",
   "source": "h2o.init()",
   "id": "37ed1f547334a0d1",
   "outputs": [
    {
     "name": "stdout",
     "output_type": "stream",
     "text": [
      "Checking whether there is an H2O instance running at http://localhost:54321..... not found.\n",
      "Attempting to start a local H2O server...\n",
      "; Java HotSpot(TM) 64-Bit Server VM (build 17.0.7+8-LTS-224, mixed mode, sharing)\n",
      "  Starting server from C:\\Users\\Alice Dias\\AppData\\Local\\Packages\\PythonSoftwareFoundation.Python.3.11_qbz5n2kfra8p0\\LocalCache\\local-packages\\Python311\\site-packages\\h2o\\backend\\bin\\h2o.jar\n",
      "  Ice root: C:\\Users\\ALICED~1\\AppData\\Local\\Temp\\tmpbiamyrn2\n",
      "  JVM stdout: C:\\Users\\ALICED~1\\AppData\\Local\\Temp\\tmpbiamyrn2\\h2o_Alice_Dias_started_from_python.out\n",
      "  JVM stderr: C:\\Users\\ALICED~1\\AppData\\Local\\Temp\\tmpbiamyrn2\\h2o_Alice_Dias_started_from_python.err\n",
      "  Server is running at http://127.0.0.1:54323\n",
      "Connecting to H2O server at http://127.0.0.1:54323 ... successful.\n"
     ]
    },
    {
     "data": {
      "text/plain": [
       "--------------------------  ---------------------------------\n",
       "H2O_cluster_uptime:         03 secs\n",
       "H2O_cluster_timezone:       Europe/Lisbon\n",
       "H2O_data_parsing_timezone:  UTC\n",
       "H2O_cluster_version:        3.46.0.7\n",
       "H2O_cluster_version_age:    19 days\n",
       "H2O_cluster_name:           H2O_from_python_Alice_Dias_u99j9i\n",
       "H2O_cluster_total_nodes:    1\n",
       "H2O_cluster_free_memory:    3.982 Gb\n",
       "H2O_cluster_total_cores:    12\n",
       "H2O_cluster_allowed_cores:  12\n",
       "H2O_cluster_status:         locked, healthy\n",
       "H2O_connection_url:         http://127.0.0.1:54323\n",
       "H2O_connection_proxy:       {\"http\": null, \"https\": null}\n",
       "H2O_internal_security:      False\n",
       "Python_version:             3.11.9 final\n",
       "--------------------------  ---------------------------------"
      ],
      "text/html": [
       "\n",
       "<style>\n",
       "\n",
       "#h2o-table-1.h2o-container {\n",
       "  overflow-x: auto;\n",
       "}\n",
       "#h2o-table-1 .h2o-table {\n",
       "  /* width: 100%; */\n",
       "  margin-top: 1em;\n",
       "  margin-bottom: 1em;\n",
       "}\n",
       "#h2o-table-1 .h2o-table caption {\n",
       "  white-space: nowrap;\n",
       "  caption-side: top;\n",
       "  text-align: left;\n",
       "  /* margin-left: 1em; */\n",
       "  margin: 0;\n",
       "  font-size: larger;\n",
       "}\n",
       "#h2o-table-1 .h2o-table thead {\n",
       "  white-space: nowrap; \n",
       "  position: sticky;\n",
       "  top: 0;\n",
       "  box-shadow: 0 -1px inset;\n",
       "}\n",
       "#h2o-table-1 .h2o-table tbody {\n",
       "  overflow: auto;\n",
       "}\n",
       "#h2o-table-1 .h2o-table th,\n",
       "#h2o-table-1 .h2o-table td {\n",
       "  text-align: right;\n",
       "  /* border: 1px solid; */\n",
       "}\n",
       "#h2o-table-1 .h2o-table tr:nth-child(even) {\n",
       "  /* background: #F5F5F5 */\n",
       "}\n",
       "\n",
       "</style>      \n",
       "<div id=\"h2o-table-1\" class=\"h2o-container\">\n",
       "  <table class=\"h2o-table\">\n",
       "    <caption></caption>\n",
       "    <thead></thead>\n",
       "    <tbody><tr><td>H2O_cluster_uptime:</td>\n",
       "<td>03 secs</td></tr>\n",
       "<tr><td>H2O_cluster_timezone:</td>\n",
       "<td>Europe/Lisbon</td></tr>\n",
       "<tr><td>H2O_data_parsing_timezone:</td>\n",
       "<td>UTC</td></tr>\n",
       "<tr><td>H2O_cluster_version:</td>\n",
       "<td>3.46.0.7</td></tr>\n",
       "<tr><td>H2O_cluster_version_age:</td>\n",
       "<td>19 days</td></tr>\n",
       "<tr><td>H2O_cluster_name:</td>\n",
       "<td>H2O_from_python_Alice_Dias_u99j9i</td></tr>\n",
       "<tr><td>H2O_cluster_total_nodes:</td>\n",
       "<td>1</td></tr>\n",
       "<tr><td>H2O_cluster_free_memory:</td>\n",
       "<td>3.982 Gb</td></tr>\n",
       "<tr><td>H2O_cluster_total_cores:</td>\n",
       "<td>12</td></tr>\n",
       "<tr><td>H2O_cluster_allowed_cores:</td>\n",
       "<td>12</td></tr>\n",
       "<tr><td>H2O_cluster_status:</td>\n",
       "<td>locked, healthy</td></tr>\n",
       "<tr><td>H2O_connection_url:</td>\n",
       "<td>http://127.0.0.1:54323</td></tr>\n",
       "<tr><td>H2O_connection_proxy:</td>\n",
       "<td>{\"http\": null, \"https\": null}</td></tr>\n",
       "<tr><td>H2O_internal_security:</td>\n",
       "<td>False</td></tr>\n",
       "<tr><td>Python_version:</td>\n",
       "<td>3.11.9 final</td></tr></tbody>\n",
       "  </table>\n",
       "</div>\n"
      ]
     },
     "metadata": {},
     "output_type": "display_data"
    }
   ],
   "execution_count": 3
  },
  {
   "metadata": {
    "ExecuteTime": {
     "end_time": "2025-04-15T15:58:11.250092Z",
     "start_time": "2025-04-15T15:56:48.499845Z"
    }
   },
   "cell_type": "code",
   "source": [
    "# Carregamento dos dados\n",
    "train = h2o.import_file(\"train.csv\")\n",
    "test = h2o.import_file(\"test.csv\")\n",
    "\n",
    "print(train.columns)\n",
    "\n",
    "# Remover colunas irrelevantes\n",
    "train = train.drop([\"C1\", \"id\"])\n",
    "test = test.drop([\"C1\", \"id\"])\n",
    "\n",
    "# Definir target e features\n",
    "target = \"satisfaction\"\n",
    "features = [col for col in train.columns if col != target]\n",
    "\n",
    "# Converter target para categórica\n",
    "train[target] = train[target].asfactor()\n",
    "\n",
    "# Modelo DRF com validação cruzada\n",
    "drf_model = H2ORandomForestEstimator(\n",
    "    ntrees=100,\n",
    "    nfolds=5,\n",
    "    fold_assignment=\"Modulo\",\n",
    "    keep_cross_validation_predictions=True,\n",
    "    seed=42\n",
    ")\n",
    "drf_model.train(x=features, y=target, training_frame=train)\n",
    "\n",
    "# Avaliação\n",
    "performance = drf_model.model_performance()\n",
    "print(performance)"
   ],
   "id": "518550e9e6c7f34e",
   "outputs": [
    {
     "name": "stdout",
     "output_type": "stream",
     "text": [
      "Parse progress: |████████████████████████████████████████████████████████████████| (done) 100%\n",
      "Parse progress: |████████████████████████████████████████████████████████████████| (done) 100%\n",
      "['C1', 'id', 'Gender', 'Customer Type', 'Age', 'Type of Travel', 'Class', 'Flight Distance', 'Inflight wifi service', 'Departure/Arrival time convenient', 'Ease of Online booking', 'Gate location', 'Food and drink', 'Online boarding', 'Seat comfort', 'Inflight entertainment', 'On-board service', 'Leg room service', 'Baggage handling', 'Checkin service', 'Inflight service', 'Cleanliness', 'Departure Delay in Minutes', 'Arrival Delay in Minutes', 'satisfaction']\n",
      "drf Model Build progress: |██████████████████████████████████████████████████████| (done) 100%\n",
      "ModelMetricsBinomial: drf\n",
      "** Reported on train data. **\n",
      "\n",
      "MSE: 0.028969611917664742\n",
      "RMSE: 0.17020461779183532\n",
      "LogLoss: 0.10392957211701233\n",
      "Mean Per-Class Error: 0.03952115632471073\n",
      "AUC: 0.9938059585380115\n",
      "AUCPR: 0.9929946513727023\n",
      "Gini: 0.9876119170760229\n",
      "\n",
      "Confusion Matrix (Act/Pred) for max f1 @ threshold = 0.5087780827712781\n",
      "                         neutral or dissatisfied    satisfied    Error    Rate\n",
      "-----------------------  -------------------------  -----------  -------  -----------------\n",
      "neutral or dissatisfied  57765                      1114         0.0189   (1114.0/58879.0)\n",
      "satisfied                2707                       42318        0.0601   (2707.0/45025.0)\n",
      "Total                    60472                      43432        0.0368   (3821.0/103904.0)\n",
      "\n",
      "Maximum Metrics: Maximum metrics at their respective thresholds\n",
      "metric                       threshold    value     idx\n",
      "---------------------------  -----------  --------  -----\n",
      "max f1                       0.508778     0.956804  174\n",
      "max f2                       0.222029     0.960248  273\n",
      "max f0point5                 0.692631     0.973589  124\n",
      "max accuracy                 0.508778     0.963226  174\n",
      "max precision                0.999985     1         0\n",
      "max recall                   1.54063e-05  1         399\n",
      "max specificity              0.999985     1         0\n",
      "max absolute_mcc             0.540396     0.925334  166\n",
      "max min_per_class_accuracy   0.377157     0.956895  216\n",
      "max mean_per_class_accuracy  0.508778     0.960479  174\n",
      "max tns                      0.999985     58879     0\n",
      "max fns                      0.999985     24295     0\n",
      "max fps                      1.54063e-05  58879     399\n",
      "max tps                      1.54063e-05  45025     399\n",
      "max tnr                      0.999985     1         0\n",
      "max fnr                      0.999985     0.539589  0\n",
      "max fpr                      1.54063e-05  1         399\n",
      "max tpr                      1.54063e-05  1         399\n",
      "\n",
      "Gains/Lift Table: Avg response rate: 43.33 %, avg score: 43.39 %\n",
      "group    cumulative_data_fraction    lower_threshold    lift         cumulative_lift    response_rate    score        cumulative_response_rate    cumulative_score    capture_rate    cumulative_capture_rate    gain      cumulative_gain    kolmogorov_smirnov\n",
      "-------  --------------------------  -----------------  -----------  -----------------  ---------------  -----------  --------------------------  ------------------  --------------  -------------------------  --------  -----------------  --------------------\n",
      "1        0.167828                    1                  2.3077       2.3077             1                1            1                           1                   0.387296        0.387296                   130.77    130.77             0.387296\n",
      "2        0.200002                    0.999831           2.3077       2.3077             1                0.999925     1                           0.999988            0.0742476       0.461544                   130.77    130.77             0.461544\n",
      "3        0.300383                    0.972222           2.30725      2.30755            0.999808         0.992661     0.999936                    0.997539            0.231605        0.693148                   130.725   130.755            0.693114\n",
      "4        0.400004                    0.661723           2.21228      2.28382            0.958651         0.878869     0.989654                    0.967985            0.220389        0.913537                   121.228   128.382            0.906234\n",
      "5        0.5                         0.167341           0.750501     1.97717            0.325217         0.357659     0.856772                    0.845924            0.0750472       0.988584                   -24.9499  97.7168            0.862206\n",
      "6        0.599996                    0.0378555          0.0912861    1.66286            0.0395573        0.0826205    0.720574                    0.718711            0.00912826      0.997712                   -90.8714  66.2865            0.701851\n",
      "7        0.700002                    0.008175           0.0168785    1.42771            0.00731402       0.0239203    0.618674                    0.61945             0.00168795      0.9994                     -98.3121  42.7711            0.52835\n",
      "8        0.800008                    0.000242233        0.00399755   1.24974            0.00173227       0.00239925   0.541552                    0.542315            0.000399778     0.9998                     -99.6002  24.9738            0.352574\n",
      "9        1                           0                  0.000999483  1                  0.000433109      1.29238e-05  0.433333                    0.433859            0.000199889     1                          -99.9001  0                  0\n"
     ]
    }
   ],
   "execution_count": 4
  },
  {
   "metadata": {},
   "cell_type": "markdown",
   "source": [
    "#### 1. Utilizando o H2O Flow e os critérios de config pra a generalização, treine o modelo avaliando-o c a técnica de validação cruzada e um valor de n_fold=5.\n",
    "#### a) Recorra aos conceitos sobre métricas de performance. Q análise faz ao modelo obtido?\n",
    "max accuracy = 0.963226 -> Isto significa q o modelo acerta cerca de 96% das previsões — excelente, especialmente num problema real c grd volume de dados.<br/>\n",
    "AUC = 0.9938 → Muito próximo de 1 -> O modelo distingue quase perfeitamente entre passageiros satisfeitos e insatisfeitos.<br/>\n",
    "Gini = 0.9876 → Reforça que o modelo tem forte poder discriminatório (Gini = 2*AUC - 1)<br/>\n",
    "LogLoss = 0.1039 → Mt baixo, oq significa q o modelo está confiante e preciso nas suas previsões probabilísticas. Indica q as previsões erradas n estão a ser feitas c alta confiança.<br/>\n",
    "Mean Per-Class Error (Erro médio por classe) = 3.95% -> A performance está equilibrada entre as 2 classes.<br/><br/>\n",
    "Confusion Matrix\n",
    "| Classe real | Previsão correta | Erros | Taxa de erro\n",
    "|---|---|---|---|\n",
    "| Neutral or dissatisfied | 57.765 | 1.114 | 1.89% |\n",
    "| Satisfied | 42.318 | 2.707 | 6.01% |\n",
    "\n",
    "O modelo classifica mt bem passageiros insatisfeitos. Há um pouco + de erro ao prever passageiros satisfeitos, mas ainda assim c excelente desempenho geral. <br/><br/>\n",
    "Máximo F1 = 0.9568 → Excelente equilíbrio entre precisão e recall.<br/>\n",
    "Máximo MCC = 0.925 → Também indica um modelo mt bom, mm c classes potencialmente desbalanceadas.<br/>\n",
    "O modelo consegue identificar os passageiros + propensos à satisfação c uma eficiência até 2,3x superior ao aleatório nos 1os grps (lift ~ 2.3).<br/>\n",
    "KS = 0.387 → Diferença máxima entre as distribuições das classes – valor mt bom (acima de 0.2 já é forte separação)."
   ],
   "id": "35a8d02b4d42ef33"
  },
  {
   "metadata": {},
   "cell_type": "markdown",
   "source": "#### b) Realize alterações aos critérios de config. Foi capaz de detetar mlhrias face ao modelo anterior?\n",
   "id": "d084411b2b742b7c"
  },
  {
   "metadata": {
    "ExecuteTime": {
     "end_time": "2025-04-15T15:00:39.146473Z",
     "start_time": "2025-04-15T14:59:05.414303Z"
    }
   },
   "cell_type": "code",
   "source": [
    "drf_model_tuned = H2ORandomForestEstimator(\n",
    "    ntrees=200,                  # aumentar número de árvores\n",
    "    max_depth=30,                # permitir maior profundidade\n",
    "    min_rows=5,                  # menos exemplos mínimos por nó\n",
    "    sample_rate=0.9,             # menos amostragem → mais diversidade\n",
    "    nfolds=5,\n",
    "    fold_assignment=\"Modulo\",\n",
    "    keep_cross_validation_predictions=True,\n",
    "    seed=42\n",
    ")\n",
    "\n",
    "drf_model_tuned.train(x=features, y=target, training_frame=train)\n",
    "\n",
    "# Avaliação do novo modelo\n",
    "performance_tuned = drf_model_tuned.model_performance()\n",
    "print(performance_tuned)"
   ],
   "id": "d23adfb33f441e63",
   "outputs": [
    {
     "name": "stdout",
     "output_type": "stream",
     "text": [
      "drf Model Build progress: |██████████████████████████████████████████████████████| (done) 100%\n",
      "ModelMetricsBinomial: drf\n",
      "** Reported on train data. **\n",
      "\n",
      "MSE: 0.029841018491340035\n",
      "RMSE: 0.1727455310314569\n",
      "LogLoss: 0.10710321927248752\n",
      "Mean Per-Class Error: 0.04062446252550863\n",
      "AUC: 0.9937052073942023\n",
      "AUCPR: 0.9928170030443461\n",
      "Gini: 0.9874104147884046\n",
      "\n",
      "Confusion Matrix (Act/Pred) for max f1 @ threshold = 0.497955525124094\n",
      "                         neutral or dissatisfied    satisfied    Error    Rate\n",
      "-----------------------  -------------------------  -----------  -------  -----------------\n",
      "neutral or dissatisfied  57656                      1223         0.0208   (1223.0/58879.0)\n",
      "satisfied                2723                       42302        0.0605   (2723.0/45025.0)\n",
      "Total                    60379                      43525        0.038    (3946.0/103904.0)\n",
      "\n",
      "Maximum Metrics: Maximum metrics at their respective thresholds\n",
      "metric                       threshold    value     idx\n",
      "---------------------------  -----------  --------  -----\n",
      "max f1                       0.497956     0.955438  181\n",
      "max f2                       0.245199     0.959629  265\n",
      "max f0point5                 0.670571     0.972626  132\n",
      "max accuracy                 0.497956     0.962023  181\n",
      "max precision                0.999999     1         0\n",
      "max recall                   3.34e-06     1         399\n",
      "max specificity              0.999999     1         0\n",
      "max absolute_mcc             0.497956     0.922768  181\n",
      "max min_per_class_accuracy   0.372449     0.956266  218\n",
      "max mean_per_class_accuracy  0.445734     0.959563  195\n",
      "max tns                      0.999999     58879     0\n",
      "max fns                      0.999999     21146     0\n",
      "max fps                      3.34e-06     58879     399\n",
      "max tps                      3.34e-06     45025     399\n",
      "max tnr                      0.999999     1         0\n",
      "max fnr                      0.999999     0.46965   0\n",
      "max fpr                      3.34e-06     1         399\n",
      "max tpr                      3.34e-06     1         399\n",
      "\n",
      "Gains/Lift Table: Avg response rate: 43.33 %, avg score: 43.29 %\n",
      "group    cumulative_data_fraction    lower_threshold    lift        cumulative_lift    response_rate    score       cumulative_response_rate    cumulative_score    capture_rate    cumulative_capture_rate    gain      cumulative_gain    kolmogorov_smirnov\n",
      "-------  --------------------------  -----------------  ----------  -----------------  ---------------  ----------  --------------------------  ------------------  --------------  -------------------------  --------  -----------------  --------------------\n",
      "1        0.229664                    1                  2.3077      2.3077             1                1           1                           1                   0.529994        0.529994                   130.77    130.77             0.529994\n",
      "2        0.299998                    0.967995           2.30643     2.3074             0.999453         0.985345    0.999872                    0.996564            0.162221        0.692215                   130.643   130.74             0.692147\n",
      "3        0.400004                    0.638668           2.20043     2.28066            0.953517         0.863951    0.988283                    0.963409            0.220056        0.912271                   120.043   128.066            0.904\n",
      "4        0.5                         0.175817           0.755165    1.97557            0.327238         0.356172    0.856079                    0.841966            0.0755136       0.987785                   -24.4835  97.5569            0.860795\n",
      "5        0.599996                    0.0416667          0.101281    1.6632             0.0438884        0.0902306   0.720718                    0.716681            0.0101277       0.997912                   -89.8719  66.3198            0.702204\n",
      "6        0.700108                    0.0119047          0.0168607   1.42778            0.00730629       0.0240208   0.618704                    0.617634            0.00168795      0.9996                     -98.3139  42.778             0.528515\n",
      "7        1                           0                  0.00133307  1                  0.000577664      0.00176479  0.433333                    0.43294             0.000399778     1                          -99.8667  0                  0\n"
     ]
    }
   ],
   "execution_count": 12
  },
  {
   "metadata": {},
   "cell_type": "markdown",
   "source": [
    "As alterações feitas aos critérios de config n trouxeram melhorias ao modelo anterior. Apesar de aumentar a complexidade do modelo, a performance caiu ligeiramente, oq pode indicar:\n",
    "- O modelo original já estava bastante bem ajustado;\n",
    "- Os novos parâmetros introduziram overfitting leve;\n",
    "- A complexidade adicional n foi compensada por ganho em precisão."
   ],
   "id": "4bc277ca3d5791c0"
  },
  {
   "metadata": {},
   "cell_type": "markdown",
   "source": [
    "####  2. Utilizando a linguagem Python, replique o processo de treino do modelo c os critérios de config q definiu no ponto anterior.\n",
    "#### 3. Utilizando a linguagem Python e c recurso à Grid Search, teste ≠s combinações de parâmetros (learn_rate, max_depth, sample_rate, etc.)."
   ],
   "id": "8d8b61adbcc7d849"
  },
  {
   "metadata": {
    "ExecuteTime": {
     "end_time": "2025-04-15T16:00:34.625605Z",
     "start_time": "2025-04-15T15:58:48.721707Z"
    }
   },
   "cell_type": "code",
   "source": [
    "# Hiperparâmetros a testar\n",
    "hyper_params = {\n",
    "    \"ntrees\": [50, 100],        # 2 valores\n",
    "    \"max_depth\": [20, 30],       # 2 valores\n",
    "    \"min_rows\": [10],            # fixo\n",
    "    \"sample_rate\": [0.9]         # fixo\n",
    "}\n",
    "\n",
    "# Definição do modelo base\n",
    "drf_grid = H2OGridSearch(\n",
    "    model=H2ORandomForestEstimator(\n",
    "        nfolds=2,\n",
    "        fold_assignment=\"Modulo\",\n",
    "        keep_cross_validation_predictions=True,\n",
    "        seed=42\n",
    "    ),\n",
    "    hyper_params=hyper_params\n",
    ")\n",
    "\n",
    "# Treinar grid\n",
    "drf_grid.train(x=features, y=target, training_frame=train)\n",
    "\n",
    "# Mostrar modelos ordenados por AUC\n",
    "sorted_grid = drf_grid.get_grid(sort_by=\"auc\", decreasing=True)\n",
    "print(sorted_grid)"
   ],
   "id": "ec2eddc3c479c875",
   "outputs": [
    {
     "name": "stdout",
     "output_type": "stream",
     "text": [
      "drf Grid Build progress: |███████████████████████████████████████████████████████| (done) 100%\n",
      "Hyper-Parameter Search Summary: ordered by decreasing auc\n",
      "    max_depth    min_rows    ntrees    sample_rate    model_ids                                                      auc\n",
      "--  -----------  ----------  --------  -------------  -------------------------------------------------------------  --------\n",
      "    30           10          100       0.9            Grid_DRF_py_2_sid_8e5f_model_python_1744732597463_266_model_4  0.992428\n",
      "    30           10          50        0.9            Grid_DRF_py_2_sid_8e5f_model_python_1744732597463_266_model_2  0.992387\n",
      "    20           10          100       0.9            Grid_DRF_py_2_sid_8e5f_model_python_1744732597463_266_model_3  0.992369\n",
      "    20           10          50        0.9            Grid_DRF_py_2_sid_8e5f_model_python_1744732597463_266_model_1  0.992331\n"
     ]
    }
   ],
   "execution_count": 5
  },
  {
   "metadata": {},
   "cell_type": "markdown",
   "source": "#### a) Q analise faz aos resultados?",
   "id": "acc417039c572b6"
  },
  {
   "metadata": {},
   "cell_type": "markdown",
   "source": "Os resultados do Grid Search mostram q há estabilidade no desempenho do modelo DRF face a diferentes combinações de hiperparâmetros. A variação na AUC foi mínima, sugerindo q o modelo n é mt sensível a alterações cm ntrees e max_depth neste intervalo. Assim, pode-se optar por configs - exigentes computacionalmente (cm ntrees = 50) sem comprometer significativamente a performance do modelo.",
   "id": "a83d1c6a8c319d15"
  },
  {
   "metadata": {},
   "cell_type": "markdown",
   "source": "####  b) Qual a combinação de configs + adequada? Oq considera cm validação pra esse processo?",
   "id": "1af2c3263a6210db"
  },
  {
   "metadata": {},
   "cell_type": "markdown",
   "source": [
    "A mlhr combinação de configs foi:\n",
    "\n",
    "🔹 ntrees = 100, max_depth = 30, min_rows = 10, sample_rate = 0.9\n",
    "\n",
    "Esta combinação apresentou o mlhr valor de AUC (0.992428) c base na validação cruzada, oq demonstra boa capacidade preditiva e generalização.\n",
    "A AUC c validação cruzada foi utilizada cm métrica de validação principal, por ser uma das + confiáveis pra classificação binária, especialmente c dados desbalanceados."
   ],
   "id": "d2b6121cc251e4f4"
  },
  {
   "metadata": {},
   "cell_type": "code",
   "outputs": [],
   "execution_count": null,
   "source": "",
   "id": "fcd1eae8bbc871b9"
  }
 ],
 "metadata": {
  "kernelspec": {
   "display_name": "Python 3",
   "language": "python",
   "name": "python3"
  },
  "language_info": {
   "codemirror_mode": {
    "name": "ipython",
    "version": 2
   },
   "file_extension": ".py",
   "mimetype": "text/x-python",
   "name": "python",
   "nbconvert_exporter": "python",
   "pygments_lexer": "ipython2",
   "version": "2.7.6"
  }
 },
 "nbformat": 4,
 "nbformat_minor": 5
}
