{
 "cells": [
  {
   "metadata": {
    "ExecuteTime": {
     "end_time": "2025-04-16T08:31:25.338417Z",
     "start_time": "2025-04-16T08:31:25.334448Z"
    }
   },
   "cell_type": "code",
   "source": [
    "import h2o\n",
    "from h2o.estimators import H2OGradientBoostingEstimator\n",
    "from h2o.grid.grid_search import H2OGridSearch"
   ],
   "id": "c5cc25b5302ba667",
   "outputs": [],
   "execution_count": 7
  },
  {
   "metadata": {},
   "cell_type": "markdown",
   "source": "### C base no dataset acima apresentado e nos conceitos q adquiriu sobre Ensembles, explore a abordagem de Boosting através do treino de um modelo de GBM.",
   "id": "fc6fe4cdd227645e"
  },
  {
   "metadata": {
    "ExecuteTime": {
     "end_time": "2025-04-16T08:13:24.321671Z",
     "start_time": "2025-04-16T08:12:57.336815Z"
    }
   },
   "cell_type": "code",
   "source": "h2o.init()",
   "id": "37ed1f547334a0d1",
   "outputs": [
    {
     "name": "stdout",
     "output_type": "stream",
     "text": [
      "Checking whether there is an H2O instance running at http://localhost:54321..... not found.\n",
      "Attempting to start a local H2O server...\n",
      "; Java HotSpot(TM) 64-Bit Server VM (build 17.0.7+8-LTS-224, mixed mode, sharing)\n",
      "  Starting server from C:\\Users\\Alice Dias\\AppData\\Local\\Packages\\PythonSoftwareFoundation.Python.3.11_qbz5n2kfra8p0\\LocalCache\\local-packages\\Python311\\site-packages\\h2o\\backend\\bin\\h2o.jar\n",
      "  Ice root: C:\\Users\\ALICED~1\\AppData\\Local\\Temp\\tmpqb_58ztf\n",
      "  JVM stdout: C:\\Users\\ALICED~1\\AppData\\Local\\Temp\\tmpqb_58ztf\\h2o_Alice_Dias_started_from_python.out\n",
      "  JVM stderr: C:\\Users\\ALICED~1\\AppData\\Local\\Temp\\tmpqb_58ztf\\h2o_Alice_Dias_started_from_python.err\n",
      "  Server is running at http://127.0.0.1:54321\n",
      "Connecting to H2O server at http://127.0.0.1:54321 ... successful.\n"
     ]
    },
    {
     "data": {
      "text/plain": [
       "--------------------------  ---------------------------------\n",
       "H2O_cluster_uptime:         01 secs\n",
       "H2O_cluster_timezone:       Europe/Lisbon\n",
       "H2O_data_parsing_timezone:  UTC\n",
       "H2O_cluster_version:        3.46.0.7\n",
       "H2O_cluster_version_age:    19 days\n",
       "H2O_cluster_name:           H2O_from_python_Alice_Dias_d0aocp\n",
       "H2O_cluster_total_nodes:    1\n",
       "H2O_cluster_free_memory:    3.982 Gb\n",
       "H2O_cluster_total_cores:    12\n",
       "H2O_cluster_allowed_cores:  12\n",
       "H2O_cluster_status:         locked, healthy\n",
       "H2O_connection_url:         http://127.0.0.1:54321\n",
       "H2O_connection_proxy:       {\"http\": null, \"https\": null}\n",
       "H2O_internal_security:      False\n",
       "Python_version:             3.11.9 final\n",
       "--------------------------  ---------------------------------"
      ],
      "text/html": [
       "\n",
       "<style>\n",
       "\n",
       "#h2o-table-1.h2o-container {\n",
       "  overflow-x: auto;\n",
       "}\n",
       "#h2o-table-1 .h2o-table {\n",
       "  /* width: 100%; */\n",
       "  margin-top: 1em;\n",
       "  margin-bottom: 1em;\n",
       "}\n",
       "#h2o-table-1 .h2o-table caption {\n",
       "  white-space: nowrap;\n",
       "  caption-side: top;\n",
       "  text-align: left;\n",
       "  /* margin-left: 1em; */\n",
       "  margin: 0;\n",
       "  font-size: larger;\n",
       "}\n",
       "#h2o-table-1 .h2o-table thead {\n",
       "  white-space: nowrap; \n",
       "  position: sticky;\n",
       "  top: 0;\n",
       "  box-shadow: 0 -1px inset;\n",
       "}\n",
       "#h2o-table-1 .h2o-table tbody {\n",
       "  overflow: auto;\n",
       "}\n",
       "#h2o-table-1 .h2o-table th,\n",
       "#h2o-table-1 .h2o-table td {\n",
       "  text-align: right;\n",
       "  /* border: 1px solid; */\n",
       "}\n",
       "#h2o-table-1 .h2o-table tr:nth-child(even) {\n",
       "  /* background: #F5F5F5 */\n",
       "}\n",
       "\n",
       "</style>      \n",
       "<div id=\"h2o-table-1\" class=\"h2o-container\">\n",
       "  <table class=\"h2o-table\">\n",
       "    <caption></caption>\n",
       "    <thead></thead>\n",
       "    <tbody><tr><td>H2O_cluster_uptime:</td>\n",
       "<td>01 secs</td></tr>\n",
       "<tr><td>H2O_cluster_timezone:</td>\n",
       "<td>Europe/Lisbon</td></tr>\n",
       "<tr><td>H2O_data_parsing_timezone:</td>\n",
       "<td>UTC</td></tr>\n",
       "<tr><td>H2O_cluster_version:</td>\n",
       "<td>3.46.0.7</td></tr>\n",
       "<tr><td>H2O_cluster_version_age:</td>\n",
       "<td>19 days</td></tr>\n",
       "<tr><td>H2O_cluster_name:</td>\n",
       "<td>H2O_from_python_Alice_Dias_d0aocp</td></tr>\n",
       "<tr><td>H2O_cluster_total_nodes:</td>\n",
       "<td>1</td></tr>\n",
       "<tr><td>H2O_cluster_free_memory:</td>\n",
       "<td>3.982 Gb</td></tr>\n",
       "<tr><td>H2O_cluster_total_cores:</td>\n",
       "<td>12</td></tr>\n",
       "<tr><td>H2O_cluster_allowed_cores:</td>\n",
       "<td>12</td></tr>\n",
       "<tr><td>H2O_cluster_status:</td>\n",
       "<td>locked, healthy</td></tr>\n",
       "<tr><td>H2O_connection_url:</td>\n",
       "<td>http://127.0.0.1:54321</td></tr>\n",
       "<tr><td>H2O_connection_proxy:</td>\n",
       "<td>{\"http\": null, \"https\": null}</td></tr>\n",
       "<tr><td>H2O_internal_security:</td>\n",
       "<td>False</td></tr>\n",
       "<tr><td>Python_version:</td>\n",
       "<td>3.11.9 final</td></tr></tbody>\n",
       "  </table>\n",
       "</div>\n"
      ]
     },
     "metadata": {},
     "output_type": "display_data"
    }
   ],
   "execution_count": 3
  },
  {
   "metadata": {},
   "cell_type": "markdown",
   "source": "#### 1. Utilizando o H2O Flow e os critérios de config pra a generalização, treine o modelo avaliando-o c validação cruzada e um valor de n_fold=5.",
   "id": "164f0f6c54ad6708"
  },
  {
   "metadata": {
    "ExecuteTime": {
     "end_time": "2025-04-16T08:18:05.909176Z",
     "start_time": "2025-04-16T08:17:40.436656Z"
    }
   },
   "cell_type": "code",
   "source": [
    "# Carregamento dos dados\n",
    "train = h2o.import_file(\"train.csv\")\n",
    "test = h2o.import_file(\"test.csv\")\n",
    "\n",
    "print(train.columns)\n",
    "\n",
    "# Remover colunas irrelevantes\n",
    "train = train.drop([\"C1\", \"id\"])\n",
    "test = test.drop([\"C1\", \"id\"])\n",
    "\n",
    "# Definir target e features\n",
    "target = \"satisfaction\"\n",
    "features = [col for col in train.columns if col != target]\n",
    "\n",
    "# Converter target para categórica\n",
    "train[target] = train[target].asfactor()\n",
    "\n",
    "# Modelo GBM com validação cruzada\n",
    "gbm_model = H2OGradientBoostingEstimator(\n",
    "    ntrees=100,\n",
    "    max_depth=5,\n",
    "    learn_rate=0.1,\n",
    "    nfolds=5,\n",
    "    fold_assignment=\"Modulo\",\n",
    "    keep_cross_validation_predictions=True,\n",
    "    seed=42\n",
    ")\n",
    "\n",
    "# Treinar o modelo\n",
    "gbm_model.train(x=features, y=target, training_frame=train)\n",
    "\n",
    "# Avaliação do modelo\n",
    "performance_gbm = gbm_model.model_performance()\n",
    "print(performance_gbm)"
   ],
   "id": "518550e9e6c7f34e",
   "outputs": [
    {
     "name": "stdout",
     "output_type": "stream",
     "text": [
      "Parse progress: |████████████████████████████████████████████████████████████████| (done) 100%\n",
      "Parse progress: |████████████████████████████████████████████████████████████████| (done) 100%\n",
      "['C1', 'id', 'Gender', 'Customer Type', 'Age', 'Type of Travel', 'Class', 'Flight Distance', 'Inflight wifi service', 'Departure/Arrival time convenient', 'Ease of Online booking', 'Gate location', 'Food and drink', 'Online boarding', 'Seat comfort', 'Inflight entertainment', 'On-board service', 'Leg room service', 'Baggage handling', 'Checkin service', 'Inflight service', 'Cleanliness', 'Departure Delay in Minutes', 'Arrival Delay in Minutes', 'satisfaction']\n",
      "gbm Model Build progress: |██████████████████████████████████████████████████████| (done) 100%\n",
      "ModelMetricsBinomial: gbm\n",
      "** Reported on train data. **\n",
      "\n",
      "MSE: 0.029529796630714207\n",
      "RMSE: 0.17184235982642407\n",
      "LogLoss: 0.10136171400767069\n",
      "Mean Per-Class Error: 0.042193519739647314\n",
      "AUC: 0.9939227785488678\n",
      "AUCPR: 0.9928416431055977\n",
      "Gini: 0.9878455570977356\n",
      "\n",
      "Confusion Matrix (Act/Pred) for max f1 @ threshold = 0.473748421415097\n",
      "                         neutral or dissatisfied    satisfied    Error    Rate\n",
      "-----------------------  -------------------------  -----------  -------  -----------------\n",
      "neutral or dissatisfied  57398                      1481         0.0252   (1481.0/58879.0)\n",
      "satisfied                2667                       42358        0.0592   (2667.0/45025.0)\n",
      "Total                    60065                      43839        0.0399   (4148.0/103904.0)\n",
      "\n",
      "Maximum Metrics: Maximum metrics at their respective thresholds\n",
      "metric                       threshold    value     idx\n",
      "---------------------------  -----------  --------  -----\n",
      "max f1                       0.473748     0.953322  184\n",
      "max f2                       0.221987     0.960562  271\n",
      "max f0point5                 0.769682     0.970362  102\n",
      "max accuracy                 0.473748     0.960079  184\n",
      "max precision                0.999279     1         0\n",
      "max recall                   0.00515286   1         391\n",
      "max specificity              0.999279     1         0\n",
      "max absolute_mcc             0.473748     0.918709  184\n",
      "max min_per_class_accuracy   0.345802     0.956113  222\n",
      "max mean_per_class_accuracy  0.433168     0.958119  195\n",
      "max tns                      0.999279     58879     0\n",
      "max fns                      0.999279     44208     0\n",
      "max fps                      0.00162123   58879     399\n",
      "max tps                      0.00515286   45025     391\n",
      "max tnr                      0.999279     1         0\n",
      "max fnr                      0.999279     0.981855  0\n",
      "max fpr                      0.00162123   1         399\n",
      "max tpr                      0.00515286   1         391\n",
      "\n",
      "Gains/Lift Table: Avg response rate: 43.33 %, avg score: 43.34 %\n",
      "group    cumulative_data_fraction    lower_threshold    lift         cumulative_lift    response_rate    score       cumulative_response_rate    cumulative_score    capture_rate    cumulative_capture_rate    gain      cumulative_gain    kolmogorov_smirnov\n",
      "-------  --------------------------  -----------------  -----------  -----------------  ---------------  ----------  --------------------------  ------------------  --------------  -------------------------  --------  -----------------  --------------------\n",
      "1        0.0100092                   0.99897            2.3077       2.3077             1                0.999244    1                           0.999244            0.0230983       0.0230983                  130.77    130.77             0.0230983\n",
      "2        0.0210194                   0.998837           2.3077       2.3077             1                0.998877    1                           0.999052            0.0254081       0.0485064                  130.77    130.77             0.0485064\n",
      "3        0.0300085                   0.998647           2.3077       2.3077             1                0.99875     1                           0.998961            0.020744        0.0692504                  130.77    130.77             0.0692504\n",
      "4        0.0401621                   0.998488           2.3077       2.3077             1                0.998561    1                           0.99886             0.0234314       0.0926818                  130.77    130.77             0.0926818\n",
      "5        0.0500077                   0.998381           2.3077       2.3077             1                0.998439    1                           0.998777            0.0227207       0.115403                   130.77    130.77             0.115403\n",
      "6        0.100006                    0.997583           2.30725      2.30747            0.999808         0.998003    0.999904                    0.99839             0.115358        0.230761                   130.725   130.747            0.230744\n",
      "7        0.150004                    0.996519           2.3077       2.30755            1                0.997071    0.999936                    0.99795             0.11538         0.346141                   130.77    130.755            0.346124\n",
      "8        0.200002                    0.994874           2.3077       2.30758            1                0.995772    0.999952                    0.997406            0.11538         0.461521                   130.77    130.758            0.461504\n",
      "9        0.299998                    0.983901           2.30725      2.30747            0.999808         0.991256    0.999904                    0.995356            0.230716        0.692238                   130.725   130.747            0.692187\n",
      "10       0.400004                    0.669074           2.16956      2.27299            0.940141         0.900316    0.984962                    0.971595            0.216968        0.909206                   116.956   127.299            0.898591\n",
      "11       0.5                         0.142944           0.782929     1.97499            0.339269         0.344153    0.855828                    0.846111            0.0782898       0.987496                   -21.7071  97.4992            0.860286\n",
      "12       0.599996                    0.0327274          0.11594      1.66516            0.0502406        0.070607    0.721568                    0.716865            0.0115936       0.999089                   -88.406   66.516             0.704281\n",
      "13       0.700002                    0.009581           0.00866135   1.4285             0.00375325       0.0187419   0.619018                    0.617127            0.000866185     0.999956                   -99.1339  42.8504            0.529329\n",
      "14       0.799998                    0.00511588         0.000222107  1.24998            9.62464e-05      0.00674894  0.541655                    0.540833            2.22099e-05     0.999978                   -99.9778  24.9975            0.352905\n",
      "15       0.899994                    0.00354006         0.000222107  1.11112            9.62464e-05      0.00425518  0.481484                    0.481215            2.22099e-05     1                          -99.9778  11.1118            0.176481\n",
      "16       1                           0.00074203         0            1                  0                0.00276006  0.433333                    0.433367            0               1                          -100      0                  0\n"
     ]
    }
   ],
   "execution_count": 5
  },
  {
   "metadata": {},
   "cell_type": "markdown",
   "source": "##### a) Recorra aos conceitos sobre métricas de performance. Q análise faz ao modelo obtido?",
   "id": "2e2a33239079688"
  },
  {
   "metadata": {},
   "cell_type": "markdown",
   "source": [
    "O modelo GBM treinado c validação cruzada obteve resultados excelentes:\n",
    "\n",
    "- AUC de 0.9939, mostrando alta capacidade de classificação binária.\n",
    "- Baixo LogLoss (0.1014) e F1 Score alto (0.9533) garantem qualidade e equilíbrio entre precisão e recall.\n",
    "- A confusion matrix está bem equilibrada, e o modelo tem uma baixa taxa de erro global (3.99%).\n",
    "\n",
    "O modelo mostra uma clara capacidade de generalização, confirmada pela validação cruzada (nfolds=5) e pelas métricas estáveis e robustas."
   ],
   "id": "c429344a8ab92375"
  },
  {
   "metadata": {},
   "cell_type": "markdown",
   "source": "##### b) Realize alterações aos critérios de config. Foi capaz de detetar mlhrias face ao modelo anterior?",
   "id": "9c4a336edf62ed58"
  },
  {
   "metadata": {
    "ExecuteTime": {
     "end_time": "2025-04-16T08:24:06.921054Z",
     "start_time": "2025-04-16T08:23:35.631787Z"
    }
   },
   "cell_type": "code",
   "source": [
    "# Modelo GBM com novos parâmetros\n",
    "gbm_tuned = H2OGradientBoostingEstimator(\n",
    "    ntrees=200,\n",
    "    learn_rate=0.05,\n",
    "    max_depth=7,\n",
    "    nfolds=5,\n",
    "    fold_assignment=\"Modulo\",\n",
    "    keep_cross_validation_predictions=True,\n",
    "    seed=42\n",
    ")\n",
    "\n",
    "# Treinar o modelo\n",
    "gbm_tuned.train(x=features, y=target, training_frame=train)\n",
    "\n",
    "# Avaliação\n",
    "performance_tuned = gbm_tuned.model_performance()\n",
    "print(performance_tuned)"
   ],
   "id": "b46a32c6ac820b7e",
   "outputs": [
    {
     "name": "stdout",
     "output_type": "stream",
     "text": [
      "gbm Model Build progress: |██████████████████████████████████████████████████████| (done) 100%\n",
      "ModelMetricsBinomial: gbm\n",
      "** Reported on train data. **\n",
      "\n",
      "MSE: 0.02214499598583875\n",
      "RMSE: 0.14881194839742792\n",
      "LogLoss: 0.07608618946674395\n",
      "Mean Per-Class Error: 0.030887380540516755\n",
      "AUC: 0.9967588668161326\n",
      "AUCPR: 0.9960898369574217\n",
      "Gini: 0.9935177336322651\n",
      "\n",
      "Confusion Matrix (Act/Pred) for max f1 @ threshold = 0.37057372088886864\n",
      "                         neutral or dissatisfied    satisfied    Error    Rate\n",
      "-----------------------  -------------------------  -----------  -------  -----------------\n",
      "neutral or dissatisfied  57304                      1575         0.0267   (1575.0/58879.0)\n",
      "satisfied                1577                       43448        0.035    (1577.0/45025.0)\n",
      "Total                    58881                      45023        0.0303   (3152.0/103904.0)\n",
      "\n",
      "Maximum Metrics: Maximum metrics at their respective thresholds\n",
      "metric                       threshold    value     idx\n",
      "---------------------------  -----------  --------  -----\n",
      "max f1                       0.370574     0.964996  214\n",
      "max f2                       0.255529     0.971731  258\n",
      "max f0point5                 0.713773     0.978178  120\n",
      "max accuracy                 0.370574     0.969664  214\n",
      "max precision                0.999327     1         0\n",
      "max recall                   0.00675037   1         385\n",
      "max specificity              0.999327     1         0\n",
      "max absolute_mcc             0.370574     0.93823   214\n",
      "max min_per_class_accuracy   0.349017     0.968973  222\n",
      "max mean_per_class_accuracy  0.353537     0.969316  220\n",
      "max tns                      0.999327     58879     0\n",
      "max fns                      0.999327     41830     0\n",
      "max fps                      0.000662446  58879     399\n",
      "max tps                      0.00675037   45025     385\n",
      "max tnr                      0.999327     1         0\n",
      "max fnr                      0.999327     0.929039  0\n",
      "max fpr                      0.000662446  1         399\n",
      "max tpr                      0.00675037   1         385\n",
      "\n",
      "Gains/Lift Table: Avg response rate: 43.33 %, avg score: 43.33 %\n",
      "group    cumulative_data_fraction    lower_threshold    lift         cumulative_lift    response_rate    score       cumulative_response_rate    cumulative_score    capture_rate    cumulative_capture_rate    gain      cumulative_gain    kolmogorov_smirnov\n",
      "-------  --------------------------  -----------------  -----------  -----------------  ---------------  ----------  --------------------------  ------------------  --------------  -------------------------  --------  -----------------  --------------------\n",
      "1        0.0100092                   0.999375           2.3077       2.3077             1                0.999501    1                           0.999501            0.0230983       0.0230983                  130.77    130.77             0.0230983\n",
      "2        0.0200185                   0.999286           2.3077       2.3077             1                0.999328    1                           0.999414            0.0230983       0.0461966                  130.77    130.77             0.0461966\n",
      "3        0.0300085                   0.999215           2.3077       2.3077             1                0.99925     1                           0.99936             0.0230539       0.0692504                  130.77    130.77             0.0692504\n",
      "4        0.0400081                   0.999168           2.3077       2.3077             1                0.999191    1                           0.999318            0.0230761       0.0923265                  130.77    130.77             0.0923265\n",
      "5        0.0500077                   0.999113           2.3077       2.3077             1                0.999143    1                           0.999283            0.0230761       0.115403                   130.77    130.77             0.115403\n",
      "6        0.100006                    0.998782           2.3077       2.3077             1                0.998963    1                           0.999123            0.11538         0.230783                   130.77    130.77             0.230783\n",
      "7        0.150004                    0.99833            2.3077       2.3077             1                0.998561    1                           0.998935            0.11538         0.346163                   130.77    130.77             0.346163\n",
      "8        0.200002                    0.997679           2.3077       2.3077             1                0.998027    1                           0.998708            0.11538         0.461544                   130.77    130.77             0.461544\n",
      "9        0.299998                    0.993342           2.3077       2.3077             1                0.996256    1                           0.997891            0.230761        0.692304                   130.77    130.77             0.692304\n",
      "10       0.400004                    0.721493           2.25528      2.29459            0.977288         0.941403    0.994322                    0.983768            0.225541        0.917846                   125.528   129.459            0.913837\n",
      "11       0.5                         0.107224           0.776043     1.99089            0.336285         0.333152    0.862719                    0.85365             0.0776013       0.995447                   -22.3957  99.0894            0.874317\n",
      "12       0.599996                    0.0190446          0.0446436    1.66653            0.0193455        0.0487136   0.722162                    0.719498            0.00446419      0.999911                   -95.5356  66.6529            0.705732\n",
      "13       0.700002                    0.00516767         0.000888344  1.42857            0.000384949      0.0103962   0.619045                    0.618192            8.88395e-05     1                          -99.9112  42.8568            0.529408\n",
      "14       0.799998                    0.00223385         0            1.25               0                0.00329239  0.541667                    0.541333            0               1                          -100      25.0003            0.352944\n",
      "15       0.899994                    0.00139395         0            1.11112            0                0.0017718   0.481484                    0.481383            0               1                          -100      11.1118            0.176481\n",
      "16       1                           0.000199365        0            1                  0                0.00102802  0.433333                    0.433345            0               1                          -100      0                  0\n"
     ]
    }
   ],
   "execution_count": 6
  },
  {
   "metadata": {},
   "cell_type": "markdown",
   "source": [
    "Após alterar os critérios de config do modelo GBM, foram observadas mlhrias claras e significativas nas principais métricas de performance:\n",
    "\n",
    "- AUC subiu de 0.9939 pra 0.9968, indicando uma mlhr capacidade de distinção entre as classes.\n",
    "- LogLoss desceu de 0.1014 pra 0.0761, revelando previsões + confiantes.\n",
    "- Acurácia aumentou pra 96.97%, c redução de erros.\n",
    "- O modelo tornou-se + equilibrado, c < erro médio por classe (3.09%).\n",
    "\n",
    "Esta melhoria deve-se à combinação de:\n",
    "\n",
    "- mais árvores → mlhr aprendizagem ao longo do tempo.\n",
    "- < taxa de aprendizagem → passos + pequenos e controlados.\n",
    "- maior profundidade → árvores + expressivas."
   ],
   "id": "a342357a755fd1db"
  },
  {
   "metadata": {},
   "cell_type": "markdown",
   "source": "#### 2. Utilizando Python, replique o processo de treino do modelo c os critérios de configuração q definiu no ponto anterior.",
   "id": "9ee38902a19955fe"
  },
  {
   "metadata": {},
   "cell_type": "markdown",
   "source": "#### 3. Utilizando Python e c recurso à Grid Search, teste diferentes combinações de parâmetros (learn_rate, max_depth, sample_rate, etc.).",
   "id": "96440844ce4c79a5"
  },
  {
   "metadata": {
    "ExecuteTime": {
     "end_time": "2025-04-16T08:36:14.669205Z",
     "start_time": "2025-04-16T08:35:47.773777Z"
    }
   },
   "cell_type": "code",
   "source": [
    "# Parâmetros a testar (pequeno número para execução rápida)\n",
    "hyper_params = {\n",
    "    \"learn_rate\": [0.1],\n",
    "    \"max_depth\": [3, 5],\n",
    "    \"sample_rate\": [0.8]\n",
    "}\n",
    "\n",
    "# Definição do modelo base com validação cruzada\n",
    "gbm_grid = H2OGridSearch(\n",
    "    model=H2OGradientBoostingEstimator(\n",
    "        ntrees=100,\n",
    "        nfolds=3,\n",
    "        fold_assignment=\"Modulo\",\n",
    "        keep_cross_validation_predictions=True,\n",
    "        seed=42\n",
    "    ),\n",
    "    hyper_params=hyper_params\n",
    ")\n",
    "\n",
    "# Treinar Grid Search\n",
    "gbm_grid.train(x=features, y=target, training_frame=train)\n",
    "\n",
    "# Ordenar por AUC\n",
    "sorted_gbm_grid = gbm_grid.get_grid(sort_by=\"auc\", decreasing=True)\n",
    "print(sorted_gbm_grid)"
   ],
   "id": "c562fc0c7b6700af",
   "outputs": [
    {
     "name": "stdout",
     "output_type": "stream",
     "text": [
      "gbm Grid Build progress: |███████████████████████████████████████████████████████| (done) 100%\n",
      "Hyper-Parameter Search Summary: ordered by decreasing auc\n",
      "    learn_rate    max_depth    sample_rate    model_ids                                                       auc\n",
      "--  ------------  -----------  -------------  --------------------------------------------------------------  --------\n",
      "    0.1           5            0.8            Grid_GBM_py_2_sid_aca4_model_python_1744791199075_4768_model_2  0.993059\n",
      "    0.1           3            0.8            Grid_GBM_py_2_sid_aca4_model_python_1744791199075_4768_model_1  0.987369\n"
     ]
    }
   ],
   "execution_count": 9
  },
  {
   "metadata": {},
   "cell_type": "markdown",
   "source": [
    "##### a) Q análise faz aos resultados?\n",
    "- O modelo c trees + profundas (max_depth=5) obteve mlhr AUC doq c max_depth=3, oq mostra q o GBM beneficia de > expressividade nas trees, mm c - parâmetros.\n",
    "- O valor de AUC = 0.9931 é excelente, e mt próximo do mlhr modelo GBM anterior (c + profundidade e + trees).\n",
    "- Mm c ntrees = 100 e nfolds = 3, o desempenho foi mt competitivo → ótimo custo-benefício computacional."
   ],
   "id": "db00a9aaf5ee5fe6"
  },
  {
   "metadata": {},
   "cell_type": "markdown",
   "source": [
    "##### b) Qual a combinação de configs + adequada? Oq considera cm validação pra esse processo?\n",
    "🏆 Mlhr combinação:\n",
    "- learn_rate = 0.1\n",
    "- max_depth = 5\n",
    "- sample_rate = 0.8\n",
    "\n",
    "📋 Validação utilizada:\n",
    "- Validação cruzada (nfolds = 3) c fold_assignment = \"Modulo\"\n",
    "- Métrica principal: AUC\n",
    "    - Escolhida por ser robusta mm c classes desbalanceadas\n",
    "    - Mede a capacidade discriminatória do modelo independentemente do threshold"
   ],
   "id": "20b9f43b499a10bb"
  },
  {
   "metadata": {},
   "cell_type": "code",
   "outputs": [],
   "execution_count": null,
   "source": "",
   "id": "da6554f9481d6354"
  }
 ],
 "metadata": {
  "kernelspec": {
   "display_name": "Python 3",
   "language": "python",
   "name": "python3"
  },
  "language_info": {
   "codemirror_mode": {
    "name": "ipython",
    "version": 2
   },
   "file_extension": ".py",
   "mimetype": "text/x-python",
   "name": "python",
   "nbconvert_exporter": "python",
   "pygments_lexer": "ipython2",
   "version": "2.7.6"
  }
 },
 "nbformat": 4,
 "nbformat_minor": 5
}
